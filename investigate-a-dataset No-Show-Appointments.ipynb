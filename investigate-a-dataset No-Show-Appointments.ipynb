{
 "cells": [
  {
   "cell_type": "markdown",
   "metadata": {},
   "source": [
    "# Project: Analysis of Appointment No-Shows\n",
    "\n",
    "## Table of Contents\n",
    "<ul>\n",
    "<li><a href=\"#intro\">Introduction</a></li>\n",
    "<li><a href=\"#wrangling\">Data Wrangling</a></li>\n",
    "<li><a href=\"#eda\">Exploratory Data Analysis</a></li>\n",
    "<li><a href=\"#conclusions\">Conclusions</a></li>\n",
    "</ul>"
   ]
  },
  {
   "cell_type": "markdown",
   "metadata": {},
   "source": [
    "<a id='intro'></a>\n",
    "## Introduction\n",
    "\n",
    "Why do patients miss their scheduled appointments?  \n",
    "\n",
    "Missed appointments lead to inefficient use of medical practitioners' time, disruption to the clinic workflow, increased waiting periods and can hinder optimal care. \n",
    "\n",
    "This project analyzes and explores the factors that may contribute to a patient not showing up to a scheduled medical appointment.  The dataset from [Kaggle](https://www.kaggle.com/joniarroba/noshowappointments) uses appointment information from Brazil and contains the following fields:\n",
    "\n",
    "* PatientID \n",
    "* AppointmentID\n",
    "* Gender \n",
    "* ScheduledDay : the date the appointment was registered.  Should be prior to AppointmentDay\n",
    "* AppointmentDay : date of appointment\n",
    "* Age\n",
    "* Neighbourhood : location of the hospital\n",
    "* Scholarship : indicates whether or not the patient is enrolled in the Brazilian welfare program, Bolsa Familia\n",
    "* Hipertension\n",
    "* Diabetes\n",
    "* Alcoholism\n",
    "* Handcap\n",
    "* SMS_received\n",
    "* No-show : No = the patient attended the appointment, Yes = the patient was a no-show\n",
    "\n",
    "\n",
    "#### Questions that will be explored are:\n",
    "1. Do certain age groups of genders tend to miss appointments?\n",
    "2. Are appointments more likely missed on certain days (just before or after the weekend)?\n",
    "3. Does longer lead-time (the time between the day the appointment is scheduled and the actual appointment date) correlate with higher incidence of no-shows, maybe due to forgetfulness or recovery\n",
    "4. Do sms reminders help lower the incidence of no-shows?\n",
    "5. Are welfare holders likely to attend an appointment for fear of possibly losing welfare entitlement due to too many missed medical appointments, or are non-welfare holders more likely to attend an appointment as they would possibly have to pay a no-show fee out of their own pocket.\n",
    "6. Could a patient's physical traits affect their ability to show up to their appointment?  Are patients with handicaps or suffering from alcoholism more likely to be a no-show due to inability and incapacity to attend their appointment?\n",
    "\n",
    "\n"
   ]
  },
  {
   "cell_type": "code",
   "execution_count": 1,
   "metadata": {},
   "outputs": [],
   "source": [
    "import numpy as np\n",
    "import pandas as pd\n",
    "import matplotlib.pyplot as plt\n",
    "import seaborn as sns\n",
    "\n",
    "%matplotlib inline\n",
    "plt.style.use('ggplot')\n",
    "sns.set_style('ticks')\n"
   ]
  },
  {
   "cell_type": "markdown",
   "metadata": {},
   "source": [
    "<a id='wrangling'></a>\n",
    "## Data Wrangling\n",
    "\n",
    "\n",
    "\n",
    "### General Properties"
   ]
  },
  {
   "cell_type": "code",
   "execution_count": 2,
   "metadata": {},
   "outputs": [
    {
     "data": {
      "text/html": [
       "<div>\n",
       "<style scoped>\n",
       "    .dataframe tbody tr th:only-of-type {\n",
       "        vertical-align: middle;\n",
       "    }\n",
       "\n",
       "    .dataframe tbody tr th {\n",
       "        vertical-align: top;\n",
       "    }\n",
       "\n",
       "    .dataframe thead th {\n",
       "        text-align: right;\n",
       "    }\n",
       "</style>\n",
       "<table border=\"1\" class=\"dataframe\">\n",
       "  <thead>\n",
       "    <tr style=\"text-align: right;\">\n",
       "      <th></th>\n",
       "      <th>PatientId</th>\n",
       "      <th>AppointmentID</th>\n",
       "      <th>Gender</th>\n",
       "      <th>ScheduledDay</th>\n",
       "      <th>AppointmentDay</th>\n",
       "      <th>Age</th>\n",
       "      <th>Neighbourhood</th>\n",
       "      <th>Scholarship</th>\n",
       "      <th>Hipertension</th>\n",
       "      <th>Diabetes</th>\n",
       "      <th>Alcoholism</th>\n",
       "      <th>Handcap</th>\n",
       "      <th>SMS_received</th>\n",
       "      <th>No-show</th>\n",
       "    </tr>\n",
       "  </thead>\n",
       "  <tbody>\n",
       "    <tr>\n",
       "      <th>0</th>\n",
       "      <td>2.987250e+13</td>\n",
       "      <td>5642903</td>\n",
       "      <td>F</td>\n",
       "      <td>2016-04-29T18:38:08Z</td>\n",
       "      <td>2016-04-29T00:00:00Z</td>\n",
       "      <td>62</td>\n",
       "      <td>JARDIM DA PENHA</td>\n",
       "      <td>0</td>\n",
       "      <td>1</td>\n",
       "      <td>0</td>\n",
       "      <td>0</td>\n",
       "      <td>0</td>\n",
       "      <td>0</td>\n",
       "      <td>No</td>\n",
       "    </tr>\n",
       "    <tr>\n",
       "      <th>1</th>\n",
       "      <td>5.589978e+14</td>\n",
       "      <td>5642503</td>\n",
       "      <td>M</td>\n",
       "      <td>2016-04-29T16:08:27Z</td>\n",
       "      <td>2016-04-29T00:00:00Z</td>\n",
       "      <td>56</td>\n",
       "      <td>JARDIM DA PENHA</td>\n",
       "      <td>0</td>\n",
       "      <td>0</td>\n",
       "      <td>0</td>\n",
       "      <td>0</td>\n",
       "      <td>0</td>\n",
       "      <td>0</td>\n",
       "      <td>No</td>\n",
       "    </tr>\n",
       "    <tr>\n",
       "      <th>2</th>\n",
       "      <td>4.262962e+12</td>\n",
       "      <td>5642549</td>\n",
       "      <td>F</td>\n",
       "      <td>2016-04-29T16:19:04Z</td>\n",
       "      <td>2016-04-29T00:00:00Z</td>\n",
       "      <td>62</td>\n",
       "      <td>MATA DA PRAIA</td>\n",
       "      <td>0</td>\n",
       "      <td>0</td>\n",
       "      <td>0</td>\n",
       "      <td>0</td>\n",
       "      <td>0</td>\n",
       "      <td>0</td>\n",
       "      <td>No</td>\n",
       "    </tr>\n",
       "    <tr>\n",
       "      <th>3</th>\n",
       "      <td>8.679512e+11</td>\n",
       "      <td>5642828</td>\n",
       "      <td>F</td>\n",
       "      <td>2016-04-29T17:29:31Z</td>\n",
       "      <td>2016-04-29T00:00:00Z</td>\n",
       "      <td>8</td>\n",
       "      <td>PONTAL DE CAMBURI</td>\n",
       "      <td>0</td>\n",
       "      <td>0</td>\n",
       "      <td>0</td>\n",
       "      <td>0</td>\n",
       "      <td>0</td>\n",
       "      <td>0</td>\n",
       "      <td>No</td>\n",
       "    </tr>\n",
       "    <tr>\n",
       "      <th>4</th>\n",
       "      <td>8.841186e+12</td>\n",
       "      <td>5642494</td>\n",
       "      <td>F</td>\n",
       "      <td>2016-04-29T16:07:23Z</td>\n",
       "      <td>2016-04-29T00:00:00Z</td>\n",
       "      <td>56</td>\n",
       "      <td>JARDIM DA PENHA</td>\n",
       "      <td>0</td>\n",
       "      <td>1</td>\n",
       "      <td>1</td>\n",
       "      <td>0</td>\n",
       "      <td>0</td>\n",
       "      <td>0</td>\n",
       "      <td>No</td>\n",
       "    </tr>\n",
       "  </tbody>\n",
       "</table>\n",
       "</div>"
      ],
      "text/plain": [
       "      PatientId  AppointmentID Gender          ScheduledDay  \\\n",
       "0  2.987250e+13        5642903      F  2016-04-29T18:38:08Z   \n",
       "1  5.589978e+14        5642503      M  2016-04-29T16:08:27Z   \n",
       "2  4.262962e+12        5642549      F  2016-04-29T16:19:04Z   \n",
       "3  8.679512e+11        5642828      F  2016-04-29T17:29:31Z   \n",
       "4  8.841186e+12        5642494      F  2016-04-29T16:07:23Z   \n",
       "\n",
       "         AppointmentDay  Age      Neighbourhood  Scholarship  Hipertension  \\\n",
       "0  2016-04-29T00:00:00Z   62    JARDIM DA PENHA            0             1   \n",
       "1  2016-04-29T00:00:00Z   56    JARDIM DA PENHA            0             0   \n",
       "2  2016-04-29T00:00:00Z   62      MATA DA PRAIA            0             0   \n",
       "3  2016-04-29T00:00:00Z    8  PONTAL DE CAMBURI            0             0   \n",
       "4  2016-04-29T00:00:00Z   56    JARDIM DA PENHA            0             1   \n",
       "\n",
       "   Diabetes  Alcoholism  Handcap  SMS_received No-show  \n",
       "0         0           0        0             0      No  \n",
       "1         0           0        0             0      No  \n",
       "2         0           0        0             0      No  \n",
       "3         0           0        0             0      No  \n",
       "4         1           0        0             0      No  "
      ]
     },
     "execution_count": 2,
     "metadata": {},
     "output_type": "execute_result"
    }
   ],
   "source": [
    "df = pd.read_csv('noshowappointments-kagglev2-may-2016.csv')\n",
    "df.head()"
   ]
  },
  {
   "cell_type": "code",
   "execution_count": 3,
   "metadata": {},
   "outputs": [
    {
     "name": "stdout",
     "output_type": "stream",
     "text": [
      "<class 'pandas.core.frame.DataFrame'>\n",
      "RangeIndex: 110527 entries, 0 to 110526\n",
      "Data columns (total 14 columns):\n",
      "PatientId         110527 non-null float64\n",
      "AppointmentID     110527 non-null int64\n",
      "Gender            110527 non-null object\n",
      "ScheduledDay      110527 non-null object\n",
      "AppointmentDay    110527 non-null object\n",
      "Age               110527 non-null int64\n",
      "Neighbourhood     110527 non-null object\n",
      "Scholarship       110527 non-null int64\n",
      "Hipertension      110527 non-null int64\n",
      "Diabetes          110527 non-null int64\n",
      "Alcoholism        110527 non-null int64\n",
      "Handcap           110527 non-null int64\n",
      "SMS_received      110527 non-null int64\n",
      "No-show           110527 non-null object\n",
      "dtypes: float64(1), int64(8), object(5)\n",
      "memory usage: 11.8+ MB\n"
     ]
    }
   ],
   "source": [
    "df.info()"
   ]
  },
  {
   "cell_type": "code",
   "execution_count": 4,
   "metadata": {},
   "outputs": [
    {
     "data": {
      "text/plain": [
       "0"
      ]
     },
     "execution_count": 4,
     "metadata": {},
     "output_type": "execute_result"
    }
   ],
   "source": [
    "sum(df.duplicated())"
   ]
  },
  {
   "cell_type": "markdown",
   "metadata": {},
   "source": [
    "***\n",
    "### Initial Screening and Cleaning\n",
    "\n",
    "There are 110,527 records, each of 14 columns.  From the initial screening, there doesn't appear to be any missing or duplicated values and data looks relatively cleaned.  \n",
    "\n",
    "These initial steps will be taken to prepare the data for ease of analysis and consistency:\n",
    "\n",
    "1. AppointmentID will be dropped - This is just an index for the appointments - the generated dataframe index will be used\n",
    "2. Column names will be changed for spelling errors and to pothole case (lower case separated by underscores)\n",
    "3. 'ScheduledDay' and 'AppointmentDay' data type will be converted to datetime.date - the date will only be used since 'AppointmentDay' doesn't have a time"
   ]
  },
  {
   "cell_type": "markdown",
   "metadata": {},
   "source": [
    "#### 1. Drop 'AppointmentID'"
   ]
  },
  {
   "cell_type": "code",
   "execution_count": 5,
   "metadata": {},
   "outputs": [
    {
     "data": {
      "text/html": [
       "<div>\n",
       "<style scoped>\n",
       "    .dataframe tbody tr th:only-of-type {\n",
       "        vertical-align: middle;\n",
       "    }\n",
       "\n",
       "    .dataframe tbody tr th {\n",
       "        vertical-align: top;\n",
       "    }\n",
       "\n",
       "    .dataframe thead th {\n",
       "        text-align: right;\n",
       "    }\n",
       "</style>\n",
       "<table border=\"1\" class=\"dataframe\">\n",
       "  <thead>\n",
       "    <tr style=\"text-align: right;\">\n",
       "      <th></th>\n",
       "      <th>PatientId</th>\n",
       "      <th>Gender</th>\n",
       "      <th>ScheduledDay</th>\n",
       "      <th>AppointmentDay</th>\n",
       "      <th>Age</th>\n",
       "      <th>Neighbourhood</th>\n",
       "      <th>Scholarship</th>\n",
       "      <th>Hipertension</th>\n",
       "      <th>Diabetes</th>\n",
       "      <th>Alcoholism</th>\n",
       "      <th>Handcap</th>\n",
       "      <th>SMS_received</th>\n",
       "      <th>No-show</th>\n",
       "    </tr>\n",
       "  </thead>\n",
       "  <tbody>\n",
       "  </tbody>\n",
       "</table>\n",
       "</div>"
      ],
      "text/plain": [
       "Empty DataFrame\n",
       "Columns: [PatientId, Gender, ScheduledDay, AppointmentDay, Age, Neighbourhood, Scholarship, Hipertension, Diabetes, Alcoholism, Handcap, SMS_received, No-show]\n",
       "Index: []"
      ]
     },
     "execution_count": 5,
     "metadata": {},
     "output_type": "execute_result"
    }
   ],
   "source": [
    "df.drop(['AppointmentID'], axis=1, inplace=True)\n",
    "df.head(0)"
   ]
  },
  {
   "cell_type": "code",
   "execution_count": 6,
   "metadata": {},
   "outputs": [
    {
     "data": {
      "text/plain": [
       "618"
      ]
     },
     "execution_count": 6,
     "metadata": {},
     "output_type": "execute_result"
    }
   ],
   "source": [
    "# Check for duplicates - A new AppointmentID may have been generated for the same appointment\n",
    "sum(df.duplicated())"
   ]
  },
  {
   "cell_type": "code",
   "execution_count": 7,
   "metadata": {},
   "outputs": [
    {
     "data": {
      "text/plain": [
       "0"
      ]
     },
     "execution_count": 7,
     "metadata": {},
     "output_type": "execute_result"
    }
   ],
   "source": [
    "# Delete duplicates\n",
    "df.drop_duplicates(inplace=True)\n",
    "sum(df.duplicated())"
   ]
  },
  {
   "cell_type": "markdown",
   "metadata": {},
   "source": [
    "***\n",
    "#### 2. Clean column names for spelling errors and pothole case"
   ]
  },
  {
   "cell_type": "code",
   "execution_count": 8,
   "metadata": {},
   "outputs": [
    {
     "data": {
      "text/html": [
       "<div>\n",
       "<style scoped>\n",
       "    .dataframe tbody tr th:only-of-type {\n",
       "        vertical-align: middle;\n",
       "    }\n",
       "\n",
       "    .dataframe tbody tr th {\n",
       "        vertical-align: top;\n",
       "    }\n",
       "\n",
       "    .dataframe thead th {\n",
       "        text-align: right;\n",
       "    }\n",
       "</style>\n",
       "<table border=\"1\" class=\"dataframe\">\n",
       "  <thead>\n",
       "    <tr style=\"text-align: right;\">\n",
       "      <th></th>\n",
       "      <th>patientid</th>\n",
       "      <th>gender</th>\n",
       "      <th>scheduledday</th>\n",
       "      <th>appointmentday</th>\n",
       "      <th>age</th>\n",
       "      <th>neighbourhood</th>\n",
       "      <th>scholarship</th>\n",
       "      <th>hipertension</th>\n",
       "      <th>diabetes</th>\n",
       "      <th>alcoholism</th>\n",
       "      <th>handcap</th>\n",
       "      <th>sms_received</th>\n",
       "      <th>no_show</th>\n",
       "    </tr>\n",
       "  </thead>\n",
       "  <tbody>\n",
       "  </tbody>\n",
       "</table>\n",
       "</div>"
      ],
      "text/plain": [
       "Empty DataFrame\n",
       "Columns: [patientid, gender, scheduledday, appointmentday, age, neighbourhood, scholarship, hipertension, diabetes, alcoholism, handcap, sms_received, no_show]\n",
       "Index: []"
      ]
     },
     "execution_count": 8,
     "metadata": {},
     "output_type": "execute_result"
    }
   ],
   "source": [
    "# change column headers to lowercase and replace any hyphens (-) with underscores (_)\n",
    "df.rename(columns = lambda x: x.strip().lower().replace('-', '_'), inplace=True)\n",
    "df.head(0)"
   ]
  },
  {
   "cell_type": "code",
   "execution_count": 9,
   "metadata": {},
   "outputs": [
    {
     "data": {
      "text/html": [
       "<div>\n",
       "<style scoped>\n",
       "    .dataframe tbody tr th:only-of-type {\n",
       "        vertical-align: middle;\n",
       "    }\n",
       "\n",
       "    .dataframe tbody tr th {\n",
       "        vertical-align: top;\n",
       "    }\n",
       "\n",
       "    .dataframe thead th {\n",
       "        text-align: right;\n",
       "    }\n",
       "</style>\n",
       "<table border=\"1\" class=\"dataframe\">\n",
       "  <thead>\n",
       "    <tr style=\"text-align: right;\">\n",
       "      <th></th>\n",
       "      <th>patient_id</th>\n",
       "      <th>gender</th>\n",
       "      <th>scheduled_day</th>\n",
       "      <th>appointment_day</th>\n",
       "      <th>age</th>\n",
       "      <th>neighbourhood</th>\n",
       "      <th>scholarship</th>\n",
       "      <th>hypertension</th>\n",
       "      <th>diabetes</th>\n",
       "      <th>alcoholism</th>\n",
       "      <th>handicap</th>\n",
       "      <th>sms_received</th>\n",
       "      <th>no_show</th>\n",
       "    </tr>\n",
       "  </thead>\n",
       "  <tbody>\n",
       "  </tbody>\n",
       "</table>\n",
       "</div>"
      ],
      "text/plain": [
       "Empty DataFrame\n",
       "Columns: [patient_id, gender, scheduled_day, appointment_day, age, neighbourhood, scholarship, hypertension, diabetes, alcoholism, handicap, sms_received, no_show]\n",
       "Index: []"
      ]
     },
     "execution_count": 9,
     "metadata": {},
     "output_type": "execute_result"
    }
   ],
   "source": [
    "# Rename any columns to make for easier reading and to correct any typos\n",
    "df.rename(columns = {'patientid' : 'patient_id',\n",
    "                    'scheduledday' : 'scheduled_day',\n",
    "                    'appointmentday' : 'appointment_day',\n",
    "                    'hipertension': 'hypertension',\n",
    "                    'handcap' : 'handicap'}, inplace=True)\n",
    "df.head(0)"
   ]
  },
  {
   "cell_type": "markdown",
   "metadata": {},
   "source": [
    "***\n",
    "#### 3. Change data type: 'scheduled_day' and 'appointment_day' to datetime.date\n",
    "Take out the timestamp using this [removing the timestamp link](https://stackoverflow.com/questions/45858155/removing-the-timestamp-from-a-datetime-in-pandas-dataframe)"
   ]
  },
  {
   "cell_type": "code",
   "execution_count": 10,
   "metadata": {},
   "outputs": [
    {
     "data": {
      "text/plain": [
       "(datetime.date, datetime.date)"
      ]
     },
     "execution_count": 10,
     "metadata": {},
     "output_type": "execute_result"
    }
   ],
   "source": [
    "df['scheduled_day'] = pd.to_datetime(df['scheduled_day']).dt.date\n",
    "df['appointment_day'] = pd.to_datetime(df['appointment_day']).dt.date\n",
    "\n",
    "type(df['scheduled_day'][1]), type(df['appointment_day'][1])"
   ]
  },
  {
   "cell_type": "code",
   "execution_count": 11,
   "metadata": {},
   "outputs": [
    {
     "data": {
      "text/html": [
       "<div>\n",
       "<style scoped>\n",
       "    .dataframe tbody tr th:only-of-type {\n",
       "        vertical-align: middle;\n",
       "    }\n",
       "\n",
       "    .dataframe tbody tr th {\n",
       "        vertical-align: top;\n",
       "    }\n",
       "\n",
       "    .dataframe thead th {\n",
       "        text-align: right;\n",
       "    }\n",
       "</style>\n",
       "<table border=\"1\" class=\"dataframe\">\n",
       "  <thead>\n",
       "    <tr style=\"text-align: right;\">\n",
       "      <th></th>\n",
       "      <th>patient_id</th>\n",
       "      <th>gender</th>\n",
       "      <th>scheduled_day</th>\n",
       "      <th>appointment_day</th>\n",
       "      <th>age</th>\n",
       "      <th>neighbourhood</th>\n",
       "      <th>scholarship</th>\n",
       "      <th>hypertension</th>\n",
       "      <th>diabetes</th>\n",
       "      <th>alcoholism</th>\n",
       "      <th>handicap</th>\n",
       "      <th>sms_received</th>\n",
       "      <th>no_show</th>\n",
       "    </tr>\n",
       "  </thead>\n",
       "  <tbody>\n",
       "    <tr>\n",
       "      <th>0</th>\n",
       "      <td>2.987250e+13</td>\n",
       "      <td>F</td>\n",
       "      <td>2016-04-29</td>\n",
       "      <td>2016-04-29</td>\n",
       "      <td>62</td>\n",
       "      <td>JARDIM DA PENHA</td>\n",
       "      <td>0</td>\n",
       "      <td>1</td>\n",
       "      <td>0</td>\n",
       "      <td>0</td>\n",
       "      <td>0</td>\n",
       "      <td>0</td>\n",
       "      <td>No</td>\n",
       "    </tr>\n",
       "    <tr>\n",
       "      <th>1</th>\n",
       "      <td>5.589978e+14</td>\n",
       "      <td>M</td>\n",
       "      <td>2016-04-29</td>\n",
       "      <td>2016-04-29</td>\n",
       "      <td>56</td>\n",
       "      <td>JARDIM DA PENHA</td>\n",
       "      <td>0</td>\n",
       "      <td>0</td>\n",
       "      <td>0</td>\n",
       "      <td>0</td>\n",
       "      <td>0</td>\n",
       "      <td>0</td>\n",
       "      <td>No</td>\n",
       "    </tr>\n",
       "    <tr>\n",
       "      <th>2</th>\n",
       "      <td>4.262962e+12</td>\n",
       "      <td>F</td>\n",
       "      <td>2016-04-29</td>\n",
       "      <td>2016-04-29</td>\n",
       "      <td>62</td>\n",
       "      <td>MATA DA PRAIA</td>\n",
       "      <td>0</td>\n",
       "      <td>0</td>\n",
       "      <td>0</td>\n",
       "      <td>0</td>\n",
       "      <td>0</td>\n",
       "      <td>0</td>\n",
       "      <td>No</td>\n",
       "    </tr>\n",
       "    <tr>\n",
       "      <th>3</th>\n",
       "      <td>8.679512e+11</td>\n",
       "      <td>F</td>\n",
       "      <td>2016-04-29</td>\n",
       "      <td>2016-04-29</td>\n",
       "      <td>8</td>\n",
       "      <td>PONTAL DE CAMBURI</td>\n",
       "      <td>0</td>\n",
       "      <td>0</td>\n",
       "      <td>0</td>\n",
       "      <td>0</td>\n",
       "      <td>0</td>\n",
       "      <td>0</td>\n",
       "      <td>No</td>\n",
       "    </tr>\n",
       "    <tr>\n",
       "      <th>4</th>\n",
       "      <td>8.841186e+12</td>\n",
       "      <td>F</td>\n",
       "      <td>2016-04-29</td>\n",
       "      <td>2016-04-29</td>\n",
       "      <td>56</td>\n",
       "      <td>JARDIM DA PENHA</td>\n",
       "      <td>0</td>\n",
       "      <td>1</td>\n",
       "      <td>1</td>\n",
       "      <td>0</td>\n",
       "      <td>0</td>\n",
       "      <td>0</td>\n",
       "      <td>No</td>\n",
       "    </tr>\n",
       "  </tbody>\n",
       "</table>\n",
       "</div>"
      ],
      "text/plain": [
       "     patient_id gender scheduled_day appointment_day  age      neighbourhood  \\\n",
       "0  2.987250e+13      F    2016-04-29      2016-04-29   62    JARDIM DA PENHA   \n",
       "1  5.589978e+14      M    2016-04-29      2016-04-29   56    JARDIM DA PENHA   \n",
       "2  4.262962e+12      F    2016-04-29      2016-04-29   62      MATA DA PRAIA   \n",
       "3  8.679512e+11      F    2016-04-29      2016-04-29    8  PONTAL DE CAMBURI   \n",
       "4  8.841186e+12      F    2016-04-29      2016-04-29   56    JARDIM DA PENHA   \n",
       "\n",
       "   scholarship  hypertension  diabetes  alcoholism  handicap  sms_received  \\\n",
       "0            0             1         0           0         0             0   \n",
       "1            0             0         0           0         0             0   \n",
       "2            0             0         0           0         0             0   \n",
       "3            0             0         0           0         0             0   \n",
       "4            0             1         1           0         0             0   \n",
       "\n",
       "  no_show  \n",
       "0      No  \n",
       "1      No  \n",
       "2      No  \n",
       "3      No  \n",
       "4      No  "
      ]
     },
     "execution_count": 11,
     "metadata": {},
     "output_type": "execute_result"
    }
   ],
   "source": [
    "df.head()"
   ]
  },
  {
   "cell_type": "code",
   "execution_count": 12,
   "metadata": {},
   "outputs": [
    {
     "data": {
      "text/plain": [
       "3604"
      ]
     },
     "execution_count": 12,
     "metadata": {},
     "output_type": "execute_result"
    }
   ],
   "source": [
    "# Check for duplicates now that the timestamp has been removed\n",
    "sum(df.duplicated())"
   ]
  },
  {
   "cell_type": "code",
   "execution_count": 13,
   "metadata": {},
   "outputs": [
    {
     "data": {
      "text/plain": [
       "0"
      ]
     },
     "execution_count": 13,
     "metadata": {},
     "output_type": "execute_result"
    }
   ],
   "source": [
    "# Delete duplicates\n",
    "df.drop_duplicates(inplace=True)\n",
    "sum(df.duplicated())"
   ]
  },
  {
   "cell_type": "markdown",
   "metadata": {},
   "source": [
    "***\n",
    "### Second Pass Screening and Data Cleaning"
   ]
  },
  {
   "cell_type": "code",
   "execution_count": 14,
   "metadata": {},
   "outputs": [
    {
     "name": "stdout",
     "output_type": "stream",
     "text": [
      "<class 'pandas.core.frame.DataFrame'>\n",
      "Int64Index: 106305 entries, 0 to 110526\n",
      "Data columns (total 13 columns):\n",
      "patient_id         106305 non-null float64\n",
      "gender             106305 non-null object\n",
      "scheduled_day      106305 non-null object\n",
      "appointment_day    106305 non-null object\n",
      "age                106305 non-null int64\n",
      "neighbourhood      106305 non-null object\n",
      "scholarship        106305 non-null int64\n",
      "hypertension       106305 non-null int64\n",
      "diabetes           106305 non-null int64\n",
      "alcoholism         106305 non-null int64\n",
      "handicap           106305 non-null int64\n",
      "sms_received       106305 non-null int64\n",
      "no_show            106305 non-null object\n",
      "dtypes: float64(1), int64(7), object(5)\n",
      "memory usage: 11.4+ MB\n"
     ]
    }
   ],
   "source": [
    "df.info()"
   ]
  },
  {
   "cell_type": "code",
   "execution_count": 15,
   "metadata": {},
   "outputs": [
    {
     "data": {
      "text/plain": [
       "patient_id         62299\n",
       "gender                 2\n",
       "scheduled_day        111\n",
       "appointment_day       27\n",
       "age                  104\n",
       "neighbourhood         81\n",
       "scholarship            2\n",
       "hypertension           2\n",
       "diabetes               2\n",
       "alcoholism             2\n",
       "handicap               5\n",
       "sms_received           2\n",
       "no_show                2\n",
       "dtype: int64"
      ]
     },
     "execution_count": 15,
     "metadata": {},
     "output_type": "execute_result"
    }
   ],
   "source": [
    "df.nunique()"
   ]
  },
  {
   "cell_type": "code",
   "execution_count": 16,
   "metadata": {},
   "outputs": [
    {
     "data": {
      "text/html": [
       "<div>\n",
       "<style scoped>\n",
       "    .dataframe tbody tr th:only-of-type {\n",
       "        vertical-align: middle;\n",
       "    }\n",
       "\n",
       "    .dataframe tbody tr th {\n",
       "        vertical-align: top;\n",
       "    }\n",
       "\n",
       "    .dataframe thead th {\n",
       "        text-align: right;\n",
       "    }\n",
       "</style>\n",
       "<table border=\"1\" class=\"dataframe\">\n",
       "  <thead>\n",
       "    <tr style=\"text-align: right;\">\n",
       "      <th></th>\n",
       "      <th>patient_id</th>\n",
       "      <th>age</th>\n",
       "      <th>scholarship</th>\n",
       "      <th>hypertension</th>\n",
       "      <th>diabetes</th>\n",
       "      <th>alcoholism</th>\n",
       "      <th>handicap</th>\n",
       "      <th>sms_received</th>\n",
       "    </tr>\n",
       "  </thead>\n",
       "  <tbody>\n",
       "    <tr>\n",
       "      <th>count</th>\n",
       "      <td>1.063050e+05</td>\n",
       "      <td>106305.000000</td>\n",
       "      <td>106305.000000</td>\n",
       "      <td>106305.000000</td>\n",
       "      <td>106305.000000</td>\n",
       "      <td>106305.000000</td>\n",
       "      <td>106305.000000</td>\n",
       "      <td>106305.000000</td>\n",
       "    </tr>\n",
       "    <tr>\n",
       "      <th>mean</th>\n",
       "      <td>1.467652e+14</td>\n",
       "      <td>37.116128</td>\n",
       "      <td>0.098067</td>\n",
       "      <td>0.198946</td>\n",
       "      <td>0.072744</td>\n",
       "      <td>0.027986</td>\n",
       "      <td>0.021890</td>\n",
       "      <td>0.333700</td>\n",
       "    </tr>\n",
       "    <tr>\n",
       "      <th>std</th>\n",
       "      <td>2.551511e+14</td>\n",
       "      <td>23.173480</td>\n",
       "      <td>0.297406</td>\n",
       "      <td>0.399210</td>\n",
       "      <td>0.259716</td>\n",
       "      <td>0.164932</td>\n",
       "      <td>0.160314</td>\n",
       "      <td>0.471536</td>\n",
       "    </tr>\n",
       "    <tr>\n",
       "      <th>min</th>\n",
       "      <td>3.921784e+04</td>\n",
       "      <td>-1.000000</td>\n",
       "      <td>0.000000</td>\n",
       "      <td>0.000000</td>\n",
       "      <td>0.000000</td>\n",
       "      <td>0.000000</td>\n",
       "      <td>0.000000</td>\n",
       "      <td>0.000000</td>\n",
       "    </tr>\n",
       "    <tr>\n",
       "      <th>25%</th>\n",
       "      <td>4.151415e+12</td>\n",
       "      <td>18.000000</td>\n",
       "      <td>0.000000</td>\n",
       "      <td>0.000000</td>\n",
       "      <td>0.000000</td>\n",
       "      <td>0.000000</td>\n",
       "      <td>0.000000</td>\n",
       "      <td>0.000000</td>\n",
       "    </tr>\n",
       "    <tr>\n",
       "      <th>50%</th>\n",
       "      <td>3.154590e+13</td>\n",
       "      <td>37.000000</td>\n",
       "      <td>0.000000</td>\n",
       "      <td>0.000000</td>\n",
       "      <td>0.000000</td>\n",
       "      <td>0.000000</td>\n",
       "      <td>0.000000</td>\n",
       "      <td>0.000000</td>\n",
       "    </tr>\n",
       "    <tr>\n",
       "      <th>75%</th>\n",
       "      <td>9.433654e+13</td>\n",
       "      <td>56.000000</td>\n",
       "      <td>0.000000</td>\n",
       "      <td>0.000000</td>\n",
       "      <td>0.000000</td>\n",
       "      <td>0.000000</td>\n",
       "      <td>0.000000</td>\n",
       "      <td>1.000000</td>\n",
       "    </tr>\n",
       "    <tr>\n",
       "      <th>max</th>\n",
       "      <td>9.999816e+14</td>\n",
       "      <td>115.000000</td>\n",
       "      <td>1.000000</td>\n",
       "      <td>1.000000</td>\n",
       "      <td>1.000000</td>\n",
       "      <td>1.000000</td>\n",
       "      <td>4.000000</td>\n",
       "      <td>1.000000</td>\n",
       "    </tr>\n",
       "  </tbody>\n",
       "</table>\n",
       "</div>"
      ],
      "text/plain": [
       "         patient_id            age    scholarship   hypertension  \\\n",
       "count  1.063050e+05  106305.000000  106305.000000  106305.000000   \n",
       "mean   1.467652e+14      37.116128       0.098067       0.198946   \n",
       "std    2.551511e+14      23.173480       0.297406       0.399210   \n",
       "min    3.921784e+04      -1.000000       0.000000       0.000000   \n",
       "25%    4.151415e+12      18.000000       0.000000       0.000000   \n",
       "50%    3.154590e+13      37.000000       0.000000       0.000000   \n",
       "75%    9.433654e+13      56.000000       0.000000       0.000000   \n",
       "max    9.999816e+14     115.000000       1.000000       1.000000   \n",
       "\n",
       "            diabetes     alcoholism       handicap   sms_received  \n",
       "count  106305.000000  106305.000000  106305.000000  106305.000000  \n",
       "mean        0.072744       0.027986       0.021890       0.333700  \n",
       "std         0.259716       0.164932       0.160314       0.471536  \n",
       "min         0.000000       0.000000       0.000000       0.000000  \n",
       "25%         0.000000       0.000000       0.000000       0.000000  \n",
       "50%         0.000000       0.000000       0.000000       0.000000  \n",
       "75%         0.000000       0.000000       0.000000       1.000000  \n",
       "max         1.000000       1.000000       4.000000       1.000000  "
      ]
     },
     "execution_count": 16,
     "metadata": {},
     "output_type": "execute_result"
    }
   ],
   "source": [
    "df.describe()"
   ]
  },
  {
   "cell_type": "markdown",
   "metadata": {},
   "source": [
    "From the second screening, the following will be addressed: \n",
    "\n",
    "1. Age: minimum age is -1, maximum age is 115.\n",
    "   The minimum age is definitely an incorrect age and will need to be removed. The maximum age could be correct but will need to be checked to see if it is an outlier and inclusion might skew the result\n",
    "   \n",
    "2. What is the range of handicaps? According to the kaggle description, this should be a True/False datatype. \n",
    "\n",
    "3. Out of 106,305 appointments, there are only 62,299 unique patient ID's over a range of 27 appointment days.  This averages out at just under 2 appointments per patient over the sample period over 27 days and seems extreme and warrants further investigation\n"
   ]
  },
  {
   "cell_type": "markdown",
   "metadata": {},
   "source": [
    "#### 1. Check and Clean Age Data"
   ]
  },
  {
   "cell_type": "code",
   "execution_count": 17,
   "metadata": {},
   "outputs": [
    {
     "data": {
      "text/html": [
       "<div>\n",
       "<style scoped>\n",
       "    .dataframe tbody tr th:only-of-type {\n",
       "        vertical-align: middle;\n",
       "    }\n",
       "\n",
       "    .dataframe tbody tr th {\n",
       "        vertical-align: top;\n",
       "    }\n",
       "\n",
       "    .dataframe thead th {\n",
       "        text-align: right;\n",
       "    }\n",
       "</style>\n",
       "<table border=\"1\" class=\"dataframe\">\n",
       "  <thead>\n",
       "    <tr style=\"text-align: right;\">\n",
       "      <th></th>\n",
       "      <th>patient_id</th>\n",
       "      <th>gender</th>\n",
       "      <th>scheduled_day</th>\n",
       "      <th>appointment_day</th>\n",
       "      <th>age</th>\n",
       "      <th>neighbourhood</th>\n",
       "      <th>scholarship</th>\n",
       "      <th>hypertension</th>\n",
       "      <th>diabetes</th>\n",
       "      <th>alcoholism</th>\n",
       "      <th>handicap</th>\n",
       "      <th>sms_received</th>\n",
       "      <th>no_show</th>\n",
       "    </tr>\n",
       "  </thead>\n",
       "  <tbody>\n",
       "    <tr>\n",
       "      <th>99832</th>\n",
       "      <td>4.659432e+14</td>\n",
       "      <td>F</td>\n",
       "      <td>2016-06-06</td>\n",
       "      <td>2016-06-06</td>\n",
       "      <td>-1</td>\n",
       "      <td>ROMÃO</td>\n",
       "      <td>0</td>\n",
       "      <td>0</td>\n",
       "      <td>0</td>\n",
       "      <td>0</td>\n",
       "      <td>0</td>\n",
       "      <td>0</td>\n",
       "      <td>No</td>\n",
       "    </tr>\n",
       "  </tbody>\n",
       "</table>\n",
       "</div>"
      ],
      "text/plain": [
       "         patient_id gender scheduled_day appointment_day  age neighbourhood  \\\n",
       "99832  4.659432e+14      F    2016-06-06      2016-06-06   -1         ROMÃO   \n",
       "\n",
       "       scholarship  hypertension  diabetes  alcoholism  handicap  \\\n",
       "99832            0             0         0           0         0   \n",
       "\n",
       "       sms_received no_show  \n",
       "99832             0      No  "
      ]
     },
     "execution_count": 17,
     "metadata": {},
     "output_type": "execute_result"
    }
   ],
   "source": [
    "# Check for records where age is less than 0\n",
    "df.query('age < 0')"
   ]
  },
  {
   "cell_type": "code",
   "execution_count": 18,
   "metadata": {},
   "outputs": [
    {
     "data": {
      "text/html": [
       "<div>\n",
       "<style scoped>\n",
       "    .dataframe tbody tr th:only-of-type {\n",
       "        vertical-align: middle;\n",
       "    }\n",
       "\n",
       "    .dataframe tbody tr th {\n",
       "        vertical-align: top;\n",
       "    }\n",
       "\n",
       "    .dataframe thead th {\n",
       "        text-align: right;\n",
       "    }\n",
       "</style>\n",
       "<table border=\"1\" class=\"dataframe\">\n",
       "  <thead>\n",
       "    <tr style=\"text-align: right;\">\n",
       "      <th></th>\n",
       "      <th>patient_id</th>\n",
       "      <th>gender</th>\n",
       "      <th>scheduled_day</th>\n",
       "      <th>appointment_day</th>\n",
       "      <th>age</th>\n",
       "      <th>neighbourhood</th>\n",
       "      <th>scholarship</th>\n",
       "      <th>hypertension</th>\n",
       "      <th>diabetes</th>\n",
       "      <th>alcoholism</th>\n",
       "      <th>handicap</th>\n",
       "      <th>sms_received</th>\n",
       "      <th>no_show</th>\n",
       "    </tr>\n",
       "  </thead>\n",
       "  <tbody>\n",
       "  </tbody>\n",
       "</table>\n",
       "</div>"
      ],
      "text/plain": [
       "Empty DataFrame\n",
       "Columns: [patient_id, gender, scheduled_day, appointment_day, age, neighbourhood, scholarship, hypertension, diabetes, alcoholism, handicap, sms_received, no_show]\n",
       "Index: []"
      ]
     },
     "execution_count": 18,
     "metadata": {},
     "output_type": "execute_result"
    }
   ],
   "source": [
    "# Delete this record\n",
    "df.drop(df.loc[df['age'] < 0].index, inplace=True)\n",
    "df.query('age < 0')"
   ]
  },
  {
   "cell_type": "code",
   "execution_count": 19,
   "metadata": {},
   "outputs": [
    {
     "data": {
      "image/png": "[encoded data removed]",
      "text/plain": [
       "<Figure size 432x288 with 1 Axes>"
      ]
     },
     "metadata": {
      "needs_background": "light"
     },
     "output_type": "display_data"
    }
   ],
   "source": [
    "df['age'].hist(alpha=0.6, grid=False);"
   ]
  },
  {
   "cell_type": "code",
   "execution_count": 20,
   "metadata": {},
   "outputs": [
    {
     "data": {
      "text/plain": [
       "6"
      ]
     },
     "execution_count": 20,
     "metadata": {},
     "output_type": "execute_result"
    }
   ],
   "source": [
    "#Check number of patients over 100\n",
    "len(df[df['age']>100])"
   ]
  },
  {
   "cell_type": "code",
   "execution_count": 21,
   "metadata": {},
   "outputs": [
    {
     "data": {
      "text/plain": [
       "2752"
      ]
     },
     "execution_count": 21,
     "metadata": {},
     "output_type": "execute_result"
    }
   ],
   "source": [
    "#Check number of patients over 80\n",
    "len(df[df['age']>80])"
   ]
  },
  {
   "cell_type": "code",
   "execution_count": 22,
   "metadata": {},
   "outputs": [
    {
     "data": {
      "text/plain": [
       "2.588801926550271"
      ]
     },
     "execution_count": 22,
     "metadata": {},
     "output_type": "execute_result"
    }
   ],
   "source": [
    "# Percentage of sample aged over 80\n",
    "len(df[df['age']>80])/len(df) * 100"
   ]
  },
  {
   "cell_type": "code",
   "execution_count": 23,
   "metadata": {},
   "outputs": [
    {
     "data": {
      "image/png": "[encoded data removed]",
      "text/plain": [
       "<Figure size 1008x288 with 3 Axes>"
      ]
     },
     "metadata": {
      "needs_background": "light"
     },
     "output_type": "display_data"
    }
   ],
   "source": [
    "# Compare the distribution of no shows of\n",
    "# * patients over 100 \n",
    "# * patients over 80 \n",
    "# * overall sample\n",
    "figure,axes = plt.subplots(nrows=1, ncols=3, figsize=(14,4))\n",
    "sns.countplot(df[df['age']>100]['no_show'], ax=axes[0])\n",
    "axes[0].set_title('Number of No-Shows (Age > 100)')\n",
    "\n",
    "sns.countplot(df[df['age']>80]['no_show'], ax=axes[1])\n",
    "axes[1].set_title('Number of No-Shows (Age > 80)')\n",
    "\n",
    "sns.countplot(df['no_show'], ax=axes[2])\n",
    "axes[2].set_title('Number of No-Shows')\n",
    "plt.tight_layout();"
   ]
  },
  {
   "cell_type": "code",
   "execution_count": 24,
   "metadata": {},
   "outputs": [
    {
     "data": {
      "image/png": "[encoded data removed]",
      "text/plain": [
       "<Figure size 1080x720 with 9 Axes>"
      ]
     },
     "metadata": {
      "needs_background": "light"
     },
     "output_type": "display_data"
    }
   ],
   "source": [
    "#Compare overall distributions of sample over 80 years and full dataset\n",
    "# Distributions of sample aged greater than 80\n",
    "df[df['age'] > 80].hist(figsize=(15,10), grid=False, alpha=0.6);"
   ]
  },
  {
   "cell_type": "code",
   "execution_count": 25,
   "metadata": {},
   "outputs": [
    {
     "data": {
      "image/png": "[encoded data removed]",
      "text/plain": [
       "<Figure size 1080x720 with 9 Axes>"
      ]
     },
     "metadata": {
      "needs_background": "light"
     },
     "output_type": "display_data"
    }
   ],
   "source": [
    "# Distributions of full dataset\n",
    "df.hist(figsize=(15,10), color='steelblue', grid=False, alpha=0.6);"
   ]
  },
  {
   "cell_type": "markdown",
   "metadata": {},
   "source": [
    "***_Age Data Cleaning Summary_***\n",
    "\n",
    "There was only one record with age less than 0.  This was deleted.\n",
    "\n",
    "There are only 6 appointments with patients older than 100. It is possible that these ages are correct. Even so, if these 6 records are grouped with those of age greater than 80 (sample size 2752, which is 2.6% of the full sample), their no-show and overall proportions (other than hypertension) are relatively consistent with the full dataset. Therefore, these records will be included in the analysis - they will not skew the data due to their small proportion as part of the full dataset, plus their ratios are consistent with the full dataset.\n",
    "\n",
    "Should hypertension correlate with patient's no-show, then this may need to be re-visited due to the opposing ratio of the sub-group of older than 80\n"
   ]
  },
  {
   "cell_type": "markdown",
   "metadata": {},
   "source": [
    "***\n",
    "#### 2. Check and Clean Handicap data\n",
    "The original data source states that this field is a binary True/False.  The range of number of handicaps will be investigated and decided whether it can be converted to binary data"
   ]
  },
  {
   "cell_type": "code",
   "execution_count": 26,
   "metadata": {},
   "outputs": [
    {
     "data": {
      "text/plain": [
       "array([0, 1, 2, 3, 4], dtype=int64)"
      ]
     },
     "execution_count": 26,
     "metadata": {},
     "output_type": "execute_result"
    }
   ],
   "source": [
    "# Range of handicap\n",
    "df['handicap'].unique()"
   ]
  },
  {
   "cell_type": "code",
   "execution_count": 27,
   "metadata": {},
   "outputs": [
    {
     "data": {
      "image/png": "[encoded data removed]",
      "text/plain": [
       "<Figure size 432x288 with 1 Axes>"
      ]
     },
     "metadata": {
      "needs_background": "light"
     },
     "output_type": "display_data"
    }
   ],
   "source": [
    "sns.countplot(df['handicap']);"
   ]
  },
  {
   "cell_type": "code",
   "execution_count": 28,
   "metadata": {},
   "outputs": [
    {
     "data": {
      "text/plain": [
       "1.9933398555087296"
      ]
     },
     "execution_count": 28,
     "metadata": {},
     "output_type": "execute_result"
    }
   ],
   "source": [
    "# Percentage of No-Shows with more than one handicap\n",
    "len(df.query('handicap > 0'))/len(df) * 100"
   ]
  },
  {
   "cell_type": "code",
   "execution_count": 29,
   "metadata": {},
   "outputs": [
    {
     "data": {
      "image/png": "[encoded data removed]",
      "text/plain": [
       "<Figure size 864x288 with 2 Axes>"
      ]
     },
     "metadata": {
      "needs_background": "light"
     },
     "output_type": "display_data"
    }
   ],
   "source": [
    "#Compare the distribution of no-shows between patients with more than 1 handicap and full dataset\n",
    "figure,axes = plt.subplots(nrows=1, ncols=2, figsize=(12,4))\n",
    "\n",
    "sns.countplot(df.query('handicap > 0')['no_show'], ax=axes[0])\n",
    "axes[0].set_title('Number of No-Shows (1+ Handicap)')\n",
    "\n",
    "sns.countplot(df['no_show'], ax=axes[1])\n",
    "axes[1].set_title('Number of No-Shows (Full Dataset)');\n",
    "\n",
    "plt.tight_layout()"
   ]
  },
  {
   "cell_type": "markdown",
   "metadata": {},
   "source": [
    "***_Handicap Data Cleaning Summary_***\n",
    "\n",
    "The proportion  where handicap is greater than 1 is 2% of the full dataset.  Additionally the proportion of no-shows for 1+ handicaps is consistent with the proportion for the full dataset.  Therefore the handicap data will be transformed as a binary type - the variable is now whether one has any handicap vs. none\n",
    "\n",
    "Data will be transformed:\n",
    "Replace handicap : if 'handicap' greater than 0, then 'handicap' = 1 [link](https://stackoverflow.com/questions/31511997/pandas-dataframe-replace-all-values-in-a-column-based-on-condition)"
   ]
  },
  {
   "cell_type": "code",
   "execution_count": 30,
   "metadata": {},
   "outputs": [
    {
     "data": {
      "text/plain": [
       "0    104185\n",
       "1      1928\n",
       "2       177\n",
       "3        11\n",
       "4         3\n",
       "Name: handicap, dtype: int64"
      ]
     },
     "execution_count": 30,
     "metadata": {},
     "output_type": "execute_result"
    }
   ],
   "source": [
    "df['handicap'].value_counts()"
   ]
  },
  {
   "cell_type": "code",
   "execution_count": 31,
   "metadata": {},
   "outputs": [
    {
     "data": {
      "text/plain": [
       "0    104185\n",
       "1      2119\n",
       "Name: handicap, dtype: int64"
      ]
     },
     "execution_count": 31,
     "metadata": {},
     "output_type": "execute_result"
    }
   ],
   "source": [
    "#Transform 'handicap' field to binary\n",
    "df.loc[df['handicap'] > 0, 'handicap'] = 1\n",
    "df['handicap'].value_counts()"
   ]
  },
  {
   "cell_type": "markdown",
   "metadata": {},
   "source": [
    "***\n",
    "#### 3. Check and Clean possible duplication of Appointments\n",
    "\n",
    "There are 106k appointments for 62k patients over 27 days.  \n",
    "Although the duplicate records have already been deleted, there is a possibility that only some parts of a record are duplicated and therefore remain.  \n",
    "\n",
    "_Check for duplicates on 'patient id' and 'appointment day'_\n"
   ]
  },
  {
   "cell_type": "code",
   "execution_count": 32,
   "metadata": {},
   "outputs": [
    {
     "data": {
      "text/plain": [
       "False    101807\n",
       "True       4497\n",
       "dtype: int64"
      ]
     },
     "execution_count": 32,
     "metadata": {},
     "output_type": "execute_result"
    }
   ],
   "source": [
    "df.duplicated(['patient_id', 'appointment_day']).value_counts()"
   ]
  },
  {
   "cell_type": "markdown",
   "metadata": {},
   "source": [
    "_Cycle through some variables relating to patient traits and details to see if they affect this result_"
   ]
  },
  {
   "cell_type": "code",
   "execution_count": 33,
   "metadata": {},
   "outputs": [
    {
     "data": {
      "text/plain": [
       "False    101807\n",
       "True       4497\n",
       "dtype: int64"
      ]
     },
     "execution_count": 33,
     "metadata": {},
     "output_type": "execute_result"
    }
   ],
   "source": [
    "#Check Neighbourhood\n",
    "df.duplicated(['patient_id', 'appointment_day', 'neighbourhood']).value_counts()"
   ]
  },
  {
   "cell_type": "code",
   "execution_count": 34,
   "metadata": {},
   "outputs": [
    {
     "data": {
      "text/plain": [
       "False    101807\n",
       "True       4497\n",
       "dtype: int64"
      ]
     },
     "execution_count": 34,
     "metadata": {},
     "output_type": "execute_result"
    }
   ],
   "source": [
    "# Check scholarship\n",
    "df.duplicated(['patient_id', 'appointment_day', 'scholarship']).value_counts()"
   ]
  },
  {
   "cell_type": "code",
   "execution_count": 35,
   "metadata": {},
   "outputs": [
    {
     "data": {
      "text/plain": [
       "False    101807\n",
       "True       4497\n",
       "dtype: int64"
      ]
     },
     "execution_count": 35,
     "metadata": {},
     "output_type": "execute_result"
    }
   ],
   "source": [
    "# Check hypertension\n",
    "df.duplicated(['patient_id', 'appointment_day', 'hypertension']).value_counts()"
   ]
  },
  {
   "cell_type": "code",
   "execution_count": 36,
   "metadata": {},
   "outputs": [
    {
     "data": {
      "text/plain": [
       "False    101807\n",
       "True       4497\n",
       "dtype: int64"
      ]
     },
     "execution_count": 36,
     "metadata": {},
     "output_type": "execute_result"
    }
   ],
   "source": [
    "# Check diabetes\n",
    "df.duplicated(['patient_id', 'appointment_day', 'diabetes']).value_counts()"
   ]
  },
  {
   "cell_type": "code",
   "execution_count": 37,
   "metadata": {},
   "outputs": [
    {
     "data": {
      "text/plain": [
       "False    101807\n",
       "True       4497\n",
       "dtype: int64"
      ]
     },
     "execution_count": 37,
     "metadata": {},
     "output_type": "execute_result"
    }
   ],
   "source": [
    "# Check handicap\n",
    "df.duplicated(['patient_id', 'appointment_day', 'handicap']).value_counts()"
   ]
  },
  {
   "cell_type": "code",
   "execution_count": 38,
   "metadata": {},
   "outputs": [
    {
     "data": {
      "text/plain": [
       "False    101807\n",
       "True       4497\n",
       "dtype: int64"
      ]
     },
     "execution_count": 38,
     "metadata": {},
     "output_type": "execute_result"
    }
   ],
   "source": [
    "# Check alcoholism\n",
    "df.duplicated(['patient_id', 'appointment_day', 'alcoholism']).value_counts()"
   ]
  },
  {
   "cell_type": "markdown",
   "metadata": {},
   "source": [
    "Duplicates are not caused by any discrepancies in patient details\n",
    "\n",
    "_Check for duplicates caused by new creation of an appointment already in the system, perhaps caused by human error or how the system handles re-scheduling appointments_"
   ]
  },
  {
   "cell_type": "code",
   "execution_count": 39,
   "metadata": {},
   "outputs": [
    {
     "data": {
      "text/plain": [
       "False    104495\n",
       "True       1809\n",
       "dtype: int64"
      ]
     },
     "execution_count": 39,
     "metadata": {},
     "output_type": "execute_result"
    }
   ],
   "source": [
    "df.duplicated(['patient_id', 'appointment_day', 'scheduled_day']).value_counts()"
   ]
  },
  {
   "cell_type": "markdown",
   "metadata": {},
   "source": [
    "_Perhaps for some reason a new appointment is generated when an sms is received_"
   ]
  },
  {
   "cell_type": "code",
   "execution_count": 40,
   "metadata": {},
   "outputs": [
    {
     "data": {
      "text/plain": [
       "False    104514\n",
       "True       1790\n",
       "dtype: int64"
      ]
     },
     "execution_count": 40,
     "metadata": {},
     "output_type": "execute_result"
    }
   ],
   "source": [
    "df.duplicated(['patient_id', 'appointment_day', 'sms_received']).value_counts()"
   ]
  },
  {
   "cell_type": "code",
   "execution_count": 41,
   "metadata": {},
   "outputs": [
    {
     "data": {
      "text/plain": [
       "False    105946\n",
       "True        358\n",
       "dtype: int64"
      ]
     },
     "execution_count": 41,
     "metadata": {},
     "output_type": "execute_result"
    }
   ],
   "source": [
    "df.duplicated(['patient_id', 'appointment_day', 'scheduled_day', 'sms_received']).value_counts()"
   ]
  },
  {
   "cell_type": "markdown",
   "metadata": {},
   "source": [
    "***_Appointment Duplication Summary_***\n",
    "\n",
    "There appears to be duplication of appointments when searched by 'patient_id' plus 'appointment_day'.  It accounts for about 4% of the dataset and will be kept, as it is beyond my capabilities to determine which of the duplicated records to keep - do I keep the records that have no-shows?  do I keep the records with sms?  do I keep the records with the earlier scheduled date?\n",
    "\n",
    "Duplication may have occured during rescheduling an appointment, when an appointment was not easily found in the system and was therefore re-entered or triggered somehow by when an sms reminder was sent.\n",
    "\n",
    "Furthermore, I was not able to find answers as to why there was a large number of appointments for just over half that number of patients.  "
   ]
  },
  {
   "cell_type": "markdown",
   "metadata": {},
   "source": [
    "<a id='eda'></a>\n",
    "## Exploratory Data Analysis\n",
    "\n",
    "\n",
    "\n",
    "\n",
    "\n",
    "_First subdivide the data into those who didn't show up and those who attended the appointment_"
   ]
  },
  {
   "cell_type": "code",
   "execution_count": 42,
   "metadata": {},
   "outputs": [],
   "source": [
    "didnt_show = df.query('no_show == \"Yes\"')\n",
    "attended=df.query('no_show == \"No\"')"
   ]
  },
  {
   "cell_type": "markdown",
   "metadata": {},
   "source": [
    "### Q1. Gender and Age vs. No-shows\n",
    "\n",
    "1. Is one gender more conscientious about attending their appointment?\n",
    "2. Do certain age groups tend to miss appointments - perhaps working age groups tend to have more unforeseen commitments that prevent them from attending their appointments. \n",
    "\n",
    "\n",
    "#### 1. Gender Analysis\n",
    "A simple analysis of gender effect on no-show rates"
   ]
  },
  {
   "cell_type": "code",
   "execution_count": 43,
   "metadata": {},
   "outputs": [
    {
     "data": {
      "image/png": "[encoded data removed]",
      "text/plain": [
       "<Figure size 432x288 with 1 Axes>"
      ]
     },
     "metadata": {
      "needs_background": "light"
     },
     "output_type": "display_data"
    }
   ],
   "source": [
    "sns.countplot(x='gender', data=df, hue='no_show')\n",
    "plt.legend(loc=2, bbox_to_anchor=(1,1));\n"
   ]
  },
  {
   "cell_type": "code",
   "execution_count": 44,
   "metadata": {},
   "outputs": [
    {
     "name": "stdout",
     "output_type": "stream",
     "text": [
      "gender  no_show\n",
      "F       No         55324\n",
      "        Yes        14263\n",
      "M       No         29290\n",
      "        Yes         7427\n",
      "Name: no_show, dtype: int64\n",
      "gender  no_show\n",
      "F       No         0.795034\n",
      "        Yes        0.204966\n",
      "M       No         0.797723\n",
      "        Yes        0.202277\n",
      "Name: no_show, dtype: float64\n"
     ]
    }
   ],
   "source": [
    "print(df.groupby('gender')['no_show'].value_counts())\n",
    "print(df.groupby('gender')['no_show'].value_counts(normalize=True))"
   ]
  },
  {
   "cell_type": "markdown",
   "metadata": {},
   "source": [
    "**_Gender Summary_**\n",
    "\n",
    "Females account for about two-thirds of the appointment holders.  The incidence of no-shows is however relatively the same in terms of proportion of appointments for both genders (approximately 20% of appointments). \n",
    "\n",
    "Gender by itself does not correlate or can be a predictor of whether a patient will be a no-show.\n",
    "\n",
    "***\n",
    "#### 2. Age Analysis\n",
    "\n",
    "_Plot the distribution of appointments: total, number attended and number missed_"
   ]
  },
  {
   "cell_type": "code",
   "execution_count": 45,
   "metadata": {},
   "outputs": [
    {
     "data": {
      "image/png": "[encoded data removed]",
      "text/plain": [
       "<Figure size 504x504 with 1 Axes>"
      ]
     },
     "metadata": {
      "needs_background": "light"
     },
     "output_type": "display_data"
    }
   ],
   "source": [
    "plt.figure(figsize=(7,7))\n",
    "sns.distplot(df['age'], kde=False, bins=20,label='total appointments', color='red')\n",
    "sns.distplot(attended['age'], kde=False, bins=20, label='attended', color='purple')\n",
    "sns.distplot(didnt_show['age'], kde=False, bins=20, label='no-show', color='steelblue')\n",
    "\n",
    "plt.legend(loc=2, bbox_to_anchor=(1,1));"
   ]
  },
  {
   "cell_type": "markdown",
   "metadata": {},
   "source": [
    "***_Age Summary_***\n",
    "\n",
    "Young children aged up to 5 years have the most appointments.   After a low point in number of appointments for the age group approximately 12-22 years the number increases fairly consistently to about age 57.  Following that a sharp and steady decline in the number of appointments for ages 60+.  What is interesting is the sharp dip in number of appointments for the age group 40-45.  This anomaly may need further investigation.\n",
    "\n",
    "Another interesting observation is the number of no-shows from ages 0 to around 40 is pretty constant in absolute terms at around the 2000 mark, despite the fluctuation in number of appointments per age group.  Above 40, the number of no-shows steadily decrease for each age group, but at a slower rate than the decline in number of appointments.\n",
    "\n",
    "As there are a higher number of appointments, the rate of no-show is lower for young children aged 5 years and under than for say 12-22 year olds and perhaps even 40-45 year olds.\n",
    "\n",
    "This result could be helpful in allocating resources.  More staffing and resources could possibly be allocated to pediatricians and services for young children as they book the most appointments and have the best show up rate (thus it would be an efficient use of resources).  \n",
    "\n",
    "On the other hand, better education and communication with the teens-early 20's age group could help increase their appointment attendances."
   ]
  },
  {
   "cell_type": "markdown",
   "metadata": {},
   "source": [
    "***\n",
    "### Q2. Time vs. No-shows\n",
    "\n",
    "\n",
    "1. Does the day of the week correlate with no-shows, for example, are patients likely to not turn up just before the weekend, or just after the weekend?\n",
    "2. Does longer lead time (the period between scheduling an appointment and the actual appointment) relate to more no-shows, for reasons such as forgetting the appointment, or recovering before the appointment date and no longer needing to see a doctor? \n",
    "3. Can a reminder sms help lower the incidence of no-shows?\n",
    "\n",
    "\n",
    "_First, columns will be added to the dataset_\n",
    "* the day of the week of the appointment date (day_week)\n",
    "* the number of days between 'scheduled_day' and 'appointment_day' (days_between)\n"
   ]
  },
  {
   "cell_type": "code",
   "execution_count": 46,
   "metadata": {},
   "outputs": [],
   "source": [
    "# Insert 'day_week' column\n",
    "df['day_week'] = df['appointment_day'].apply(lambda x: x.weekday())"
   ]
  },
  {
   "cell_type": "code",
   "execution_count": 47,
   "metadata": {},
   "outputs": [],
   "source": [
    "# Map day names to day_week\n",
    "dmap = {0:'Mon',1:'Tue',2:'Wed',3:'Thu',4:'Fri',5:'Sat',6:'Sun'}\n",
    "df['day_week'] = df['day_week'].map(dmap)"
   ]
  },
  {
   "cell_type": "code",
   "execution_count": 48,
   "metadata": {},
   "outputs": [],
   "source": [
    "# Insert 'days_between' column\n",
    "df['days_between'] = df['appointment_day'] - df['scheduled_day']"
   ]
  },
  {
   "cell_type": "code",
   "execution_count": 49,
   "metadata": {},
   "outputs": [
    {
     "data": {
      "text/plain": [
       "count                     106304\n",
       "mean     10 days 09:48:36.195063\n",
       "std      15 days 08:52:01.721380\n",
       "min            -6 days +00:00:00\n",
       "25%              0 days 00:00:00\n",
       "50%              4 days 00:00:00\n",
       "75%             15 days 00:00:00\n",
       "max            179 days 00:00:00\n",
       "Name: days_between, dtype: object"
      ]
     },
     "execution_count": 49,
     "metadata": {},
     "output_type": "execute_result"
    }
   ],
   "source": [
    "df['days_between'].describe()"
   ]
  },
  {
   "cell_type": "markdown",
   "metadata": {},
   "source": [
    "_'days between' should be equal to or greater than zero, as appointments are scheduled before the actual date_"
   ]
  },
  {
   "cell_type": "code",
   "execution_count": 50,
   "metadata": {},
   "outputs": [
    {
     "data": {
      "text/html": [
       "<div>\n",
       "<style scoped>\n",
       "    .dataframe tbody tr th:only-of-type {\n",
       "        vertical-align: middle;\n",
       "    }\n",
       "\n",
       "    .dataframe tbody tr th {\n",
       "        vertical-align: top;\n",
       "    }\n",
       "\n",
       "    .dataframe thead th {\n",
       "        text-align: right;\n",
       "    }\n",
       "</style>\n",
       "<table border=\"1\" class=\"dataframe\">\n",
       "  <thead>\n",
       "    <tr style=\"text-align: right;\">\n",
       "      <th></th>\n",
       "      <th>patient_id</th>\n",
       "      <th>gender</th>\n",
       "      <th>scheduled_day</th>\n",
       "      <th>appointment_day</th>\n",
       "      <th>age</th>\n",
       "      <th>neighbourhood</th>\n",
       "      <th>scholarship</th>\n",
       "      <th>hypertension</th>\n",
       "      <th>diabetes</th>\n",
       "      <th>alcoholism</th>\n",
       "      <th>handicap</th>\n",
       "      <th>sms_received</th>\n",
       "      <th>no_show</th>\n",
       "      <th>day_week</th>\n",
       "      <th>days_between</th>\n",
       "    </tr>\n",
       "  </thead>\n",
       "  <tbody>\n",
       "    <tr>\n",
       "      <th>27033</th>\n",
       "      <td>7.839273e+12</td>\n",
       "      <td>M</td>\n",
       "      <td>2016-05-10</td>\n",
       "      <td>2016-05-09</td>\n",
       "      <td>38</td>\n",
       "      <td>RESISTÊNCIA</td>\n",
       "      <td>0</td>\n",
       "      <td>0</td>\n",
       "      <td>0</td>\n",
       "      <td>0</td>\n",
       "      <td>1</td>\n",
       "      <td>0</td>\n",
       "      <td>Yes</td>\n",
       "      <td>Mon</td>\n",
       "      <td>-1 days</td>\n",
       "    </tr>\n",
       "    <tr>\n",
       "      <th>55226</th>\n",
       "      <td>7.896294e+12</td>\n",
       "      <td>F</td>\n",
       "      <td>2016-05-18</td>\n",
       "      <td>2016-05-17</td>\n",
       "      <td>19</td>\n",
       "      <td>SANTO ANTÔNIO</td>\n",
       "      <td>0</td>\n",
       "      <td>0</td>\n",
       "      <td>0</td>\n",
       "      <td>0</td>\n",
       "      <td>1</td>\n",
       "      <td>0</td>\n",
       "      <td>Yes</td>\n",
       "      <td>Tue</td>\n",
       "      <td>-1 days</td>\n",
       "    </tr>\n",
       "    <tr>\n",
       "      <th>64175</th>\n",
       "      <td>2.425226e+13</td>\n",
       "      <td>F</td>\n",
       "      <td>2016-05-05</td>\n",
       "      <td>2016-05-04</td>\n",
       "      <td>22</td>\n",
       "      <td>CONSOLAÇÃO</td>\n",
       "      <td>0</td>\n",
       "      <td>0</td>\n",
       "      <td>0</td>\n",
       "      <td>0</td>\n",
       "      <td>0</td>\n",
       "      <td>0</td>\n",
       "      <td>Yes</td>\n",
       "      <td>Wed</td>\n",
       "      <td>-1 days</td>\n",
       "    </tr>\n",
       "    <tr>\n",
       "      <th>71533</th>\n",
       "      <td>9.982316e+14</td>\n",
       "      <td>F</td>\n",
       "      <td>2016-05-11</td>\n",
       "      <td>2016-05-05</td>\n",
       "      <td>81</td>\n",
       "      <td>SANTO ANTÔNIO</td>\n",
       "      <td>0</td>\n",
       "      <td>0</td>\n",
       "      <td>0</td>\n",
       "      <td>0</td>\n",
       "      <td>0</td>\n",
       "      <td>0</td>\n",
       "      <td>Yes</td>\n",
       "      <td>Thu</td>\n",
       "      <td>-6 days</td>\n",
       "    </tr>\n",
       "    <tr>\n",
       "      <th>72362</th>\n",
       "      <td>3.787482e+12</td>\n",
       "      <td>M</td>\n",
       "      <td>2016-05-04</td>\n",
       "      <td>2016-05-03</td>\n",
       "      <td>7</td>\n",
       "      <td>TABUAZEIRO</td>\n",
       "      <td>0</td>\n",
       "      <td>0</td>\n",
       "      <td>0</td>\n",
       "      <td>0</td>\n",
       "      <td>0</td>\n",
       "      <td>0</td>\n",
       "      <td>Yes</td>\n",
       "      <td>Tue</td>\n",
       "      <td>-1 days</td>\n",
       "    </tr>\n",
       "  </tbody>\n",
       "</table>\n",
       "</div>"
      ],
      "text/plain": [
       "         patient_id gender scheduled_day appointment_day  age  neighbourhood  \\\n",
       "27033  7.839273e+12      M    2016-05-10      2016-05-09   38    RESISTÊNCIA   \n",
       "55226  7.896294e+12      F    2016-05-18      2016-05-17   19  SANTO ANTÔNIO   \n",
       "64175  2.425226e+13      F    2016-05-05      2016-05-04   22     CONSOLAÇÃO   \n",
       "71533  9.982316e+14      F    2016-05-11      2016-05-05   81  SANTO ANTÔNIO   \n",
       "72362  3.787482e+12      M    2016-05-04      2016-05-03    7     TABUAZEIRO   \n",
       "\n",
       "       scholarship  hypertension  diabetes  alcoholism  handicap  \\\n",
       "27033            0             0         0           0         1   \n",
       "55226            0             0         0           0         1   \n",
       "64175            0             0         0           0         0   \n",
       "71533            0             0         0           0         0   \n",
       "72362            0             0         0           0         0   \n",
       "\n",
       "       sms_received no_show day_week days_between  \n",
       "27033             0     Yes      Mon      -1 days  \n",
       "55226             0     Yes      Tue      -1 days  \n",
       "64175             0     Yes      Wed      -1 days  \n",
       "71533             0     Yes      Thu      -6 days  \n",
       "72362             0     Yes      Tue      -1 days  "
      ]
     },
     "execution_count": 50,
     "metadata": {},
     "output_type": "execute_result"
    }
   ],
   "source": [
    "# Check and delete any records where 'days_between' is negative\n",
    "df[df['days_between']< '0 days' ]"
   ]
  },
  {
   "cell_type": "markdown",
   "metadata": {},
   "source": [
    "** There are 5 records where 'days_between' is negative, i.e. 'appointment_day' is prior to 'scheduled_day'. \n",
    "\n",
    "All these appointments resulted in a no-show for our dataset but would have had nil effect on the actual day of the appointment.  At that time there was no appointment to be had so no resources were allocated to it. \n",
    "\n",
    "These records will be considered incorrect data and removed from the dataset **"
   ]
  },
  {
   "cell_type": "code",
   "execution_count": 51,
   "metadata": {},
   "outputs": [
    {
     "data": {
      "text/html": [
       "<div>\n",
       "<style scoped>\n",
       "    .dataframe tbody tr th:only-of-type {\n",
       "        vertical-align: middle;\n",
       "    }\n",
       "\n",
       "    .dataframe tbody tr th {\n",
       "        vertical-align: top;\n",
       "    }\n",
       "\n",
       "    .dataframe thead th {\n",
       "        text-align: right;\n",
       "    }\n",
       "</style>\n",
       "<table border=\"1\" class=\"dataframe\">\n",
       "  <thead>\n",
       "    <tr style=\"text-align: right;\">\n",
       "      <th></th>\n",
       "      <th>patient_id</th>\n",
       "      <th>gender</th>\n",
       "      <th>scheduled_day</th>\n",
       "      <th>appointment_day</th>\n",
       "      <th>age</th>\n",
       "      <th>neighbourhood</th>\n",
       "      <th>scholarship</th>\n",
       "      <th>hypertension</th>\n",
       "      <th>diabetes</th>\n",
       "      <th>alcoholism</th>\n",
       "      <th>handicap</th>\n",
       "      <th>sms_received</th>\n",
       "      <th>no_show</th>\n",
       "      <th>day_week</th>\n",
       "      <th>days_between</th>\n",
       "    </tr>\n",
       "  </thead>\n",
       "  <tbody>\n",
       "  </tbody>\n",
       "</table>\n",
       "</div>"
      ],
      "text/plain": [
       "Empty DataFrame\n",
       "Columns: [patient_id, gender, scheduled_day, appointment_day, age, neighbourhood, scholarship, hypertension, diabetes, alcoholism, handicap, sms_received, no_show, day_week, days_between]\n",
       "Index: []"
      ]
     },
     "execution_count": 51,
     "metadata": {},
     "output_type": "execute_result"
    }
   ],
   "source": [
    "df.drop(df[df['days_between']< '0 days'].index, inplace=True)\n",
    "df[df['days_between']< '0 days' ]"
   ]
  },
  {
   "cell_type": "markdown",
   "metadata": {},
   "source": [
    "***\n",
    "#### 1. How does day of the week correlate to appointments and no-shows"
   ]
  },
  {
   "cell_type": "markdown",
   "metadata": {},
   "source": [
    "_Plot week day and number of no-shows per day_"
   ]
  },
  {
   "cell_type": "code",
   "execution_count": 52,
   "metadata": {},
   "outputs": [
    {
     "data": {
      "image/png": "[encoded data removed]",
      "text/plain": [
       "<Figure size 432x288 with 1 Axes>"
      ]
     },
     "metadata": {
      "needs_background": "light"
     },
     "output_type": "display_data"
    }
   ],
   "source": [
    "sns.countplot(x='day_week', order=['Mon', 'Tue', 'Wed', 'Thu', 'Fri', 'Sat'], data=df, hue='no_show')\n",
    "plt.legend(loc=2, bbox_to_anchor=(1,1));"
   ]
  },
  {
   "cell_type": "code",
   "execution_count": 53,
   "metadata": {},
   "outputs": [
    {
     "data": {
      "text/html": [
       "<div>\n",
       "<style scoped>\n",
       "    .dataframe tbody tr th:only-of-type {\n",
       "        vertical-align: middle;\n",
       "    }\n",
       "\n",
       "    .dataframe tbody tr th {\n",
       "        vertical-align: top;\n",
       "    }\n",
       "\n",
       "    .dataframe thead th {\n",
       "        text-align: right;\n",
       "    }\n",
       "</style>\n",
       "<table border=\"1\" class=\"dataframe\">\n",
       "  <thead>\n",
       "    <tr style=\"text-align: right;\">\n",
       "      <th>no_show</th>\n",
       "      <th>No</th>\n",
       "      <th>Yes</th>\n",
       "    </tr>\n",
       "    <tr>\n",
       "      <th>day_week</th>\n",
       "      <th></th>\n",
       "      <th></th>\n",
       "    </tr>\n",
       "  </thead>\n",
       "  <tbody>\n",
       "    <tr>\n",
       "      <th>Fri</th>\n",
       "      <td>14203</td>\n",
       "      <td>3859</td>\n",
       "    </tr>\n",
       "    <tr>\n",
       "      <th>Mon</th>\n",
       "      <td>17221</td>\n",
       "      <td>4580</td>\n",
       "    </tr>\n",
       "    <tr>\n",
       "      <th>Sat</th>\n",
       "      <td>30</td>\n",
       "      <td>9</td>\n",
       "    </tr>\n",
       "    <tr>\n",
       "      <th>Thu</th>\n",
       "      <td>13439</td>\n",
       "      <td>3267</td>\n",
       "    </tr>\n",
       "    <tr>\n",
       "      <th>Tue</th>\n",
       "      <td>19841</td>\n",
       "      <td>5033</td>\n",
       "    </tr>\n",
       "    <tr>\n",
       "      <th>Wed</th>\n",
       "      <td>19880</td>\n",
       "      <td>4937</td>\n",
       "    </tr>\n",
       "  </tbody>\n",
       "</table>\n",
       "</div>"
      ],
      "text/plain": [
       "no_show      No   Yes\n",
       "day_week             \n",
       "Fri       14203  3859\n",
       "Mon       17221  4580\n",
       "Sat          30     9\n",
       "Thu       13439  3267\n",
       "Tue       19841  5033\n",
       "Wed       19880  4937"
      ]
     },
     "execution_count": 53,
     "metadata": {},
     "output_type": "execute_result"
    }
   ],
   "source": [
    "# Tabular data of plotted graph\n",
    "df.groupby(by=['day_week', 'no_show']).count()['age'].unstack()"
   ]
  },
  {
   "cell_type": "code",
   "execution_count": 54,
   "metadata": {},
   "outputs": [
    {
     "data": {
      "text/html": [
       "<div>\n",
       "<style scoped>\n",
       "    .dataframe tbody tr th:only-of-type {\n",
       "        vertical-align: middle;\n",
       "    }\n",
       "\n",
       "    .dataframe tbody tr th {\n",
       "        vertical-align: top;\n",
       "    }\n",
       "\n",
       "    .dataframe thead th {\n",
       "        text-align: right;\n",
       "    }\n",
       "</style>\n",
       "<table border=\"1\" class=\"dataframe\">\n",
       "  <thead>\n",
       "    <tr style=\"text-align: right;\">\n",
       "      <th>no_show</th>\n",
       "      <th>No</th>\n",
       "      <th>Yes</th>\n",
       "    </tr>\n",
       "    <tr>\n",
       "      <th>day_week</th>\n",
       "      <th></th>\n",
       "      <th></th>\n",
       "    </tr>\n",
       "  </thead>\n",
       "  <tbody>\n",
       "    <tr>\n",
       "      <th>Fri</th>\n",
       "      <td>14203</td>\n",
       "      <td>3859</td>\n",
       "    </tr>\n",
       "    <tr>\n",
       "      <th>Mon</th>\n",
       "      <td>17221</td>\n",
       "      <td>4580</td>\n",
       "    </tr>\n",
       "    <tr>\n",
       "      <th>Sat</th>\n",
       "      <td>30</td>\n",
       "      <td>9</td>\n",
       "    </tr>\n",
       "    <tr>\n",
       "      <th>Thu</th>\n",
       "      <td>13439</td>\n",
       "      <td>3267</td>\n",
       "    </tr>\n",
       "    <tr>\n",
       "      <th>Tue</th>\n",
       "      <td>19841</td>\n",
       "      <td>5033</td>\n",
       "    </tr>\n",
       "    <tr>\n",
       "      <th>Wed</th>\n",
       "      <td>19880</td>\n",
       "      <td>4937</td>\n",
       "    </tr>\n",
       "  </tbody>\n",
       "</table>\n",
       "</div>"
      ],
      "text/plain": [
       "no_show      No   Yes\n",
       "day_week             \n",
       "Fri       14203  3859\n",
       "Mon       17221  4580\n",
       "Sat          30     9\n",
       "Thu       13439  3267\n",
       "Tue       19841  5033\n",
       "Wed       19880  4937"
      ]
     },
     "execution_count": 54,
     "metadata": {},
     "output_type": "execute_result"
    }
   ],
   "source": [
    "# Tabular data of plotted graph\n",
    "df.groupby(by=['day_week', 'no_show']).count()['age'].unstack()"
   ]
  },
  {
   "cell_type": "markdown",
   "metadata": {},
   "source": [
    "***_Day of the Week Summary_***\n",
    "\n",
    "The number of appointments are greater on Tuesday and Wednesday, quieting down Thursday and Friday to close to none on Saturday.  \n",
    "\n",
    "Even with this variation of number of appointments over the days, the proportion of no-shows is approximately 1/5th of total appointments per day.\n",
    "\n",
    "Therefore the day of the week does not correlate with appointment no-shows.  It does however give information on which days to possibly allocate additional resources in order to meet the higher demand for appointments."
   ]
  },
  {
   "cell_type": "markdown",
   "metadata": {},
   "source": [
    "***\n",
    "#### 2. How does lead time correlate to appointments and no-shows"
   ]
  },
  {
   "cell_type": "markdown",
   "metadata": {},
   "source": [
    "_Plot distribution of 'days between'_"
   ]
  },
  {
   "cell_type": "code",
   "execution_count": 55,
   "metadata": {},
   "outputs": [
    {
     "data": {
      "image/png": "[encoded data removed]",
      "text/plain": [
       "<Figure size 720x288 with 1 Axes>"
      ]
     },
     "metadata": {
      "needs_background": "light"
     },
     "output_type": "display_data"
    }
   ],
   "source": [
    "plt.figure(figsize=(10,4))\n",
    "sns.distplot(df['days_between'].dt.days, kde=False);"
   ]
  },
  {
   "cell_type": "markdown",
   "metadata": {},
   "source": [
    "** The distribution of 'days_between' scheduled and appointment date is skewed greatly to the right, with a high percentage of appointments occurring on the same day that it is scheduled.\n",
    "\n",
    "A new column 'lead_time' will be created, grouping the 'days_between' as 0, 1, 2, 3, 4, 5, 6, 7, 7+, 14+, 21+, 28+ days **"
   ]
  },
  {
   "cell_type": "code",
   "execution_count": 56,
   "metadata": {},
   "outputs": [],
   "source": [
    "#Insert new column 'lead_time'\n",
    "bin_edges= [pd.Timedelta('-1 days'),\n",
    "            pd.Timedelta('0 days'),\n",
    "            pd.Timedelta('1 days'),\n",
    "            pd.Timedelta('2 days'),\n",
    "            pd.Timedelta('3 days'),\n",
    "            pd.Timedelta('4 days'),\n",
    "            pd.Timedelta('5 days'),\n",
    "            pd.Timedelta('6 days'),\n",
    "            pd.Timedelta('7 days'),\n",
    "            pd.Timedelta('13 days'),\n",
    "            pd.Timedelta('20 days'),\n",
    "            pd.Timedelta('27 days'),\n",
    "            df['days_between'].max()]\n",
    "\n",
    "bin_names = [0,1,2,3,4,5,6,7,'7+','14+','21+','28+']\n",
    "\n",
    "df['lead_time'] = pd.cut(df['days_between'], bin_edges, labels=bin_names)"
   ]
  },
  {
   "cell_type": "code",
   "execution_count": 57,
   "metadata": {},
   "outputs": [
    {
     "data": {
      "image/png": "[encoded data removed]",
      "text/plain": [
       "<Figure size 432x288 with 1 Axes>"
      ]
     },
     "metadata": {
      "needs_background": "light"
     },
     "output_type": "display_data"
    }
   ],
   "source": [
    "# Plot number of attendance and no-shows grouped by lead time\n",
    "sns.countplot(x='lead_time', data=df, hue='no_show')\n",
    "plt.legend(loc=2, bbox_to_anchor=(1,1));"
   ]
  },
  {
   "cell_type": "markdown",
   "metadata": {},
   "source": [
    "** _Check whether the long lead times are incorrect data_ **"
   ]
  },
  {
   "cell_type": "code",
   "execution_count": 58,
   "metadata": {},
   "outputs": [
    {
     "data": {
      "text/plain": [
       "Timedelta('179 days 00:00:00')"
      ]
     },
     "execution_count": 58,
     "metadata": {},
     "output_type": "execute_result"
    }
   ],
   "source": [
    "# Longest period between scheduled_day and appointment_day\n",
    "df['days_between'].max()"
   ]
  },
  {
   "cell_type": "code",
   "execution_count": 59,
   "metadata": {},
   "outputs": [
    {
     "data": {
      "text/plain": [
       "No     8\n",
       "Yes    2\n",
       "Name: no_show, dtype: int64"
      ]
     },
     "execution_count": 59,
     "metadata": {},
     "output_type": "execute_result"
    }
   ],
   "source": [
    "# No-shows for lead time of 179 days \n",
    "df[df['days_between']== df['days_between'].max()]['no_show'].value_counts()"
   ]
  },
  {
   "cell_type": "code",
   "execution_count": 60,
   "metadata": {},
   "outputs": [
    {
     "data": {
      "text/plain": [
       "No     2284\n",
       "Yes     980\n",
       "Name: no_show, dtype: int64"
      ]
     },
     "execution_count": 60,
     "metadata": {},
     "output_type": "execute_result"
    }
   ],
   "source": [
    "# No-shows for lead time greater than 50 days\n",
    "df[df['days_between']>= pd.Timedelta('50 days')]['no_show'].value_counts()"
   ]
  },
  {
   "cell_type": "markdown",
   "metadata": {},
   "source": [
    "***_Lead Time Summary_***\n",
    "\n",
    "The vast majority of appointments are booked on the same day, resulting in mostly show ups. \n",
    "\n",
    "The data for long lead times greater than 50 days could be legitimate (maximum lead time is 179 days) as patients are showing up to these appointments.\n",
    "\n",
    "If the appointment is booked in advance, by as little as just more than one week in advance, there is a higher proportion of no-shows compared with appointments booked in within the same week.  For appointments booked one week to 4+ weeks in advance, approximately 30% are missed.   Causes for missed appointments could be forgetting, recovering and no longer requiring the appointment or a clash with an unforeseen commitment.  \n",
    "\n",
    "Strategies could therefore be put in place to target these advanced booked appointment holders.  \n",
    "\n",
    "One such strategy is sending a reminder sms\n"
   ]
  },
  {
   "cell_type": "markdown",
   "metadata": {},
   "source": [
    "***\n",
    "#### 3. Can a reminder sms help lower the incidence of no-shows?"
   ]
  },
  {
   "cell_type": "markdown",
   "metadata": {},
   "source": [
    "_Plot the number of no-shows categorized by whether an sms was received (1) or not(0)_"
   ]
  },
  {
   "cell_type": "code",
   "execution_count": 61,
   "metadata": {},
   "outputs": [
    {
     "data": {
      "image/png": "[encoded data removed]",
      "text/plain": [
       "<Figure size 432x288 with 1 Axes>"
      ]
     },
     "metadata": {
      "needs_background": "light"
     },
     "output_type": "display_data"
    }
   ],
   "source": [
    "sns.countplot(x='sms_received', data=df, hue='no_show')\n",
    "plt.legend(loc=2, bbox_to_anchor=(1,1));"
   ]
  },
  {
   "cell_type": "code",
   "execution_count": 62,
   "metadata": {},
   "outputs": [
    {
     "data": {
      "text/plain": [
       "sms_received  no_show\n",
       "0             No         0.831924\n",
       "              Yes        0.168076\n",
       "1             No         0.724277\n",
       "              Yes        0.275723\n",
       "Name: no_show, dtype: float64"
      ]
     },
     "execution_count": 62,
     "metadata": {},
     "output_type": "execute_result"
    }
   ],
   "source": [
    "#Tabular data of no-shows as a proportion of appointments where sms was sent vs. not sent\n",
    "df.groupby('sms_received')['no_show'].value_counts(normalize=True)"
   ]
  },
  {
   "cell_type": "markdown",
   "metadata": {},
   "source": [
    "***_SMS Summary_***\n",
    "\n",
    "In absolute terms, the difference in number of no shows for those that received an sms versus those that didn't is insignificant, no-show numbers hovering around 10,000.  However, taking into account that only one-third of appointments received an sms, the number of no-shows, given an sms reminder, is significant.  \n",
    "\n",
    "27% of those that received an sms, were no-shows, while that is true for only 16% of those that didn't receive an sms.  This is counter-intuitive to the very idea of a reminder sms.  A follow up could determine how far in advance the sms's were sent - closer to the appointment day and a required reply could probably be more beneficial- and whether resources could be allocated to other reminder methods.\n"
   ]
  },
  {
   "cell_type": "markdown",
   "metadata": {},
   "source": [
    "***Explore any trends relating lead time ('days_between'), sms reminders and no-shows***"
   ]
  },
  {
   "cell_type": "code",
   "execution_count": 63,
   "metadata": {},
   "outputs": [
    {
     "data": {
      "image/png": "[encoded data removed]",
      "text/plain": [
       "<Figure size 864x432 with 1 Axes>"
      ]
     },
     "metadata": {
      "needs_background": "light"
     },
     "output_type": "display_data"
    }
   ],
   "source": [
    "plt.figure(figsize=(12,6))\n",
    "sns.boxplot(x='sms_received', y=df['days_between'].dt.days, data=df, hue='no_show')\n",
    "plt.legend(loc=2, bbox_to_anchor=(1,1))\n",
    "plt.tight_layout();"
   ]
  },
  {
   "cell_type": "markdown",
   "metadata": {},
   "source": [
    "***_SMS and Lead Time Summary_***\n",
    "\n",
    "For those that received an sms, there is no significant difference between the correlation of lead time and show up rates.\n",
    "\n",
    "Without an sms, 50% of no-shows occurred when the appointment was booked between 2 and 20 days beforehand.  \n",
    "\n",
    "There is however a huge amount of outliers when analyszed with boxplots."
   ]
  },
  {
   "cell_type": "markdown",
   "metadata": {},
   "source": [
    "***\n",
    "### Q3. Welfare vs. No-Shows\n",
    "Are welfare holders more likely to attend an appointment for fear of possibly losing welfare entitlement due to too many missed medical appointments, or are non-welfare holders more likely to attend an appointment as they would possibly have to pay a no-show fee out of their own pocket.\n",
    "\n",
    "In this plot, welfare holders are classified as 'scholarship' = 1, and non-welfare holders 'scholarship' = 0"
   ]
  },
  {
   "cell_type": "code",
   "execution_count": 64,
   "metadata": {},
   "outputs": [
    {
     "data": {
      "image/png": "[encoded data removed]",
      "text/plain": [
       "<Figure size 432x288 with 1 Axes>"
      ]
     },
     "metadata": {
      "needs_background": "light"
     },
     "output_type": "display_data"
    }
   ],
   "source": [
    "sns.countplot(x='scholarship', data=df, hue='no_show')\n",
    "plt.legend(loc=2, bbox_to_anchor=(1,1));"
   ]
  },
  {
   "cell_type": "code",
   "execution_count": 65,
   "metadata": {},
   "outputs": [
    {
     "data": {
      "text/plain": [
       "scholarship  no_show\n",
       "0            No         0.799789\n",
       "             Yes        0.200211\n",
       "1            No         0.761151\n",
       "             Yes        0.238849\n",
       "Name: no_show, dtype: float64"
      ]
     },
     "execution_count": 65,
     "metadata": {},
     "output_type": "execute_result"
    }
   ],
   "source": [
    "# Tabular data of no-shows as a proportion of appointments held by welfare and non-welfare holders \n",
    "df.groupby('scholarship')['no_show'].value_counts(normalize=True)"
   ]
  },
  {
   "cell_type": "markdown",
   "metadata": {},
   "source": [
    "***Explore why welfare holders may have a higher no-show rate***\n",
    "\n",
    "Perhaps welfare holders have to go on longer waiting lists for appointments and therefore lead-time could be a contributing factor."
   ]
  },
  {
   "cell_type": "code",
   "execution_count": 66,
   "metadata": {},
   "outputs": [],
   "source": [
    "df_welf_lead = df.groupby(by=['days_between','scholarship']).count()['appointment_day'].unstack()"
   ]
  },
  {
   "cell_type": "code",
   "execution_count": 67,
   "metadata": {},
   "outputs": [
    {
     "data": {
      "image/png": "[encoded data removed]",
      "text/plain": [
       "<Figure size 720x576 with 2 Axes>"
      ]
     },
     "metadata": {
      "needs_background": "light"
     },
     "output_type": "display_data"
    }
   ],
   "source": [
    "fig = plt.figure(figsize=(10,8))\n",
    "\n",
    "axes1 = fig.add_axes([0.1, 0.1, 0.8, 0.8]) \n",
    "axes2 = fig.add_axes([0.4, 0.5, 0.4,0.3])\n",
    "\n",
    "df_welf_lead.plot(ax=axes1, ylim=(0,30000))\n",
    "\n",
    "df_welf_lead.plot(ax=axes2, xlim=(7,95), ylim=(0,4000))\n",
    "axes2.set_xticks([7,29,51,73,95])\n",
    "axes2.set_xticklabels([7,29,51,73,95])\n",
    "axes2.set_title('Magnified to show lead time >  one week');\n",
    "\n",
    "# Welfare holders => scholarship = 1; Non welfare => scholarship = 0"
   ]
  },
  {
   "cell_type": "markdown",
   "metadata": {},
   "source": [
    "***_Welfare Summary_***\n",
    "\n",
    "There is a slightly higher proportion (almost 4% of appointments) of no-shows for welfare holders as opposed to non-welfare holders.  This difference has not been tested for significance.\n",
    "\n",
    "Further analysis did not support the hypothesis that welfare holders may have to go on longer waiting lists for appointments, thus bringing in the 'lead-time' effect for no-show.  The trend for lead time('days_between') was similar between welfare and non-welfare holders."
   ]
  },
  {
   "cell_type": "markdown",
   "metadata": {},
   "source": [
    "***\n",
    "### Q4. Physical Traits and Ailments vs. No-Shows\n",
    "\n",
    "Can a patient's physical traits or ailments be preventing them from attending a scheduled appointment?\n",
    "\n",
    "_Summary plots of no-shows categorized by Hypertension, Diabetes, Alcoholism and Handicap, 1= patient affected by this trait, 0 = not affected_"
   ]
  },
  {
   "cell_type": "code",
   "execution_count": 68,
   "metadata": {},
   "outputs": [
    {
     "data": {
      "image/png": "[encoded data removed]",
      "text/plain": [
       "<Figure size 1008x720 with 4 Axes>"
      ]
     },
     "metadata": {
      "needs_background": "light"
     },
     "output_type": "display_data"
    }
   ],
   "source": [
    "figure,axes = plt.subplots(nrows=2, ncols=2, figsize=(14,10))\n",
    "\n",
    "sns.countplot(x='hypertension', data=df, hue='no_show', ax=axes[0,0])\n",
    "axes[0,0].set_title('Hypertension')\n",
    "\n",
    "sns.countplot(x='diabetes', data=df, hue='no_show', ax=axes[0,1])\n",
    "axes[0,1].set_title('Diabetes')\n",
    "\n",
    "sns.countplot(x='alcoholism', data=df, hue='no_show', ax=axes[1,0])\n",
    "axes[1,0].set_title('Alcoholism')\n",
    "\n",
    "sns.countplot(x='handicap', data=df, hue='no_show', ax=axes[1,1])\n",
    "axes[1,1].set_title('Handicap')\n",
    "\n",
    "plt.tight_layout();"
   ]
  },
  {
   "cell_type": "code",
   "execution_count": 69,
   "metadata": {},
   "outputs": [
    {
     "name": "stdout",
     "output_type": "stream",
     "text": [
      "hypertension  no_show\n",
      "0             No         0.788608\n",
      "              Yes        0.211392\n",
      "1             No         0.825760\n",
      "              Yes        0.174240\n",
      "Name: no_show, dtype: float64\n",
      "diabetes  no_show\n",
      "0         No         0.794270\n",
      "          Yes        0.205730\n",
      "1         No         0.818053\n",
      "          Yes        0.181947\n",
      "Name: no_show, dtype: float64\n",
      "alcoholism  no_show\n",
      "0           No         0.796475\n",
      "            Yes        0.203525\n",
      "1           No         0.779496\n",
      "            Yes        0.220504\n",
      "Name: no_show, dtype: float64\n",
      "handicap  no_show\n",
      "0         No         0.795406\n",
      "          Yes        0.204594\n",
      "1         No         0.825224\n",
      "          Yes        0.174776\n",
      "Name: no_show, dtype: float64\n"
     ]
    }
   ],
   "source": [
    "# Tabular data of no-shows as a proportion\n",
    "print(df.groupby('hypertension')['no_show'].value_counts(normalize=True))\n",
    "print(df.groupby('diabetes')['no_show'].value_counts(normalize=True))\n",
    "print(df.groupby('alcoholism')['no_show'].value_counts(normalize=True))\n",
    "print(df.groupby('handicap')['no_show'].value_counts(normalize=True))"
   ]
  },
  {
   "cell_type": "markdown",
   "metadata": {},
   "source": [
    "***_Physical Traits Summary_***\n",
    "\n",
    "Compared to Diabetes, Alcoholism and Handicap, a larger proportion of patients suffer from Hypertension.  Additionally, of those that suffer hypertension, their no-show ratio is slightly higher by about 3.7% than those that do not suffer.  This difference has not been tested for significance.\n",
    "\n",
    "As mentioned in the Data Wrangling - Age section, the data of the higher aged patients, whose hypertension ratios were much higher than the general sample, may need to be re-visited to determine whether it could be slighlty skewing this result, should this difference of 3.7% prove to be significant. \n",
    "\n",
    "Of those that have a handicap, their no-show rate is also slighlty higher by about 2.5%.  This difference has not been tested for significance.  However this result could be further investigated by planners and carers to ensure hospitals and clinics are accessible for those with handicaps.  That mobility aids are provided and physical barriers are removed to allow those with handicaps to easily attend medical appointments and services.\n"
   ]
  },
  {
   "cell_type": "markdown",
   "metadata": {},
   "source": [
    "<a id='conclusions'></a>\n",
    "## Conclusions\n",
    "\n",
    "The factors that seem to have some relation to whether a patient attends or doesn't attend a scheduled appointment are:\n",
    "\n",
    "1. The lead time between scheduled and actual appointment, with longer lead time of 1 week and greater displaying a higher level of no-shows.   Strategies that might lower this rate could be explored, however the analysis on sms receipt in this project concluded that sms reminders had no effect on whether a patient would attend their appointment.  How Sms is used, such as how far in advance they were received or whether a reply was required could be explored.\n",
    "\n",
    "2. Age groups to a certain extent, with young children under 5 having a higher attendance rate and teens-early 20s having a lower attendance rate.  Appointment rates were generally higher for the under 5's and could therefore warrant further resources allocated to these services.\n",
    "\n",
    "3. Enrollment in the welfare program showed a slightly higher rate of no-shows.  Evidence could not be found to support the hypothesis that welfare holders are on longer wait lists for appointments thus this result could be skewed by 'lead-time' effect \n",
    "\n",
    "4. Physical traits hypertension and to a lesser extent handicap.  \n",
    "\n",
    "Gender, the weekday of the appointment, diabetes and alcoholism did not show any relationship with no-shows in this analysis.\n",
    "\n",
    "***\n",
    "### Limitations\n",
    "\n",
    "1. Differences were not tested for significance, such as for hypertension, handicap and welfare\n",
    "\n",
    "2. 100k+ unique appointments, for only approximately 62k unique patient id's over a range of 27 appointment days, which averages to just under 2 appointments per patient.  Weeding out the partial duplicates were beyond my capabilities and therefore all remained in the dataset\n",
    "\n",
    "***\n",
    "### Further Investigation\n",
    "\n",
    "1. It is beyond the scope of this project to analyse the correlation of the 81 neighbourhood and appointment no-shows.  It would be interesting to group these neighbourhoods further, perhaps by region or socio-economic to determine any trends.   Factors such as public transport, parking and even signage or facilities at the hospital could contribute to a missed appointment.\n",
    "\n",
    "2. A cross analysis of factors could uncover more insights.  Such as analysis of neighbourhoods and accessibility of hospital and clinics for those with handicaps\n",
    "\n",
    "3. Further analysis could be made on the likelihood a patient is a no-show given that they were previously a no-show.  Would the second appointment more likely be attended? \n",
    "\n",
    "4. Further work on this topic could explore whether initial or follow up appointments are more likely to be missed.\n",
    "\n",
    "\n"
   ]
  },
  {
   "cell_type": "markdown",
   "metadata": {},
   "source": [
    "#### Resources\n",
    "[Udemy Python for Data Science and Machine Learning Bootcamp](https://www.udemy.com/python-for-data-science-and-machine-learning-bootcamp/)\n",
    "\n",
    "[Udacity Intro to Data Analysis](https://www.udacity.com/course/intro-to-data-analysis--ud170)\n",
    "\n",
    "[Order axis of seaborn countplot](https://stackoverflow.com/questions/42846830/ordering-axis-of-seaborn-countplot)\n",
    "\n",
    "[removing the timestamp link](https://stackoverflow.com/questions/45858155/removing-the-timestamp-from-a-datetime-in-pandas-dataframe)\n",
    "\n",
    "[set_xticks vs set_xticklabels](https://stackoverflow.com/questions/21910986/why-set-xticks-doesnt-set-the-labels-of-ticks)\n",
    "\n",
    "[replace values in column based on a condition](https://stackoverflow.com/questions/31511997/pandas-dataframe-replace-all-values-in-a-column-based-on-condition)"
   ]
  },
  {
   "cell_type": "code",
   "execution_count": null,
   "metadata": {},
   "outputs": [],
   "source": []
  }
 ],
 "metadata": {
  "kernelspec": {
   "display_name": "Python 3",
   "language": "python",
   "name": "python3"
  },
  "language_info": {
   "codemirror_mode": {
    "name": "ipython",
    "version": 3
   },
   "file_extension": ".py",
   "mimetype": "text/x-python",
   "name": "python",
   "nbconvert_exporter": "python",
   "pygments_lexer": "ipython3",
   "version": "3.7.2"
  }
 },
 "nbformat": 4,
 "nbformat_minor": 2
}
